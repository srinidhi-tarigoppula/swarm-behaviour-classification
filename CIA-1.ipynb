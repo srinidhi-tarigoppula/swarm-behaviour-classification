{
 "cells": [
  {
   "cell_type": "code",
   "execution_count": 1,
   "id": "4d6ba80b",
   "metadata": {},
   "outputs": [],
   "source": [
    "import pandas as pd\n",
    "data = pd.read_csv('Swarm_Behaviour.csv')"
   ]
  },
  {
   "cell_type": "code",
   "execution_count": 2,
   "id": "1724d397",
   "metadata": {},
   "outputs": [
    {
     "data": {
      "text/html": [
       "<div>\n",
       "<style scoped>\n",
       "    .dataframe tbody tr th:only-of-type {\n",
       "        vertical-align: middle;\n",
       "    }\n",
       "\n",
       "    .dataframe tbody tr th {\n",
       "        vertical-align: top;\n",
       "    }\n",
       "\n",
       "    .dataframe thead th {\n",
       "        text-align: right;\n",
       "    }\n",
       "</style>\n",
       "<table border=\"1\" class=\"dataframe\">\n",
       "  <thead>\n",
       "    <tr style=\"text-align: right;\">\n",
       "      <th></th>\n",
       "      <th>x1</th>\n",
       "      <th>y1</th>\n",
       "      <th>xVel1</th>\n",
       "      <th>yVel1</th>\n",
       "      <th>xA1</th>\n",
       "      <th>yA1</th>\n",
       "      <th>xS1</th>\n",
       "      <th>yS1</th>\n",
       "      <th>xC1</th>\n",
       "      <th>yC1</th>\n",
       "      <th>...</th>\n",
       "      <th>yVel200</th>\n",
       "      <th>xA200</th>\n",
       "      <th>yA200</th>\n",
       "      <th>xS200</th>\n",
       "      <th>yS200</th>\n",
       "      <th>xC200</th>\n",
       "      <th>yC200</th>\n",
       "      <th>nAC200</th>\n",
       "      <th>nS200</th>\n",
       "      <th>Swarm_Behaviour</th>\n",
       "    </tr>\n",
       "  </thead>\n",
       "  <tbody>\n",
       "    <tr>\n",
       "      <th>0</th>\n",
       "      <td>562.05</td>\n",
       "      <td>-0.62</td>\n",
       "      <td>-10.70</td>\n",
       "      <td>-4.33</td>\n",
       "      <td>0.00</td>\n",
       "      <td>0.00</td>\n",
       "      <td>0.0</td>\n",
       "      <td>0.0</td>\n",
       "      <td>0.00</td>\n",
       "      <td>0.00</td>\n",
       "      <td>...</td>\n",
       "      <td>-15.15</td>\n",
       "      <td>0.00</td>\n",
       "      <td>0.00</td>\n",
       "      <td>0.00</td>\n",
       "      <td>0.00</td>\n",
       "      <td>0.00</td>\n",
       "      <td>0.0</td>\n",
       "      <td>28</td>\n",
       "      <td>0</td>\n",
       "      <td>0.0</td>\n",
       "    </tr>\n",
       "    <tr>\n",
       "      <th>1</th>\n",
       "      <td>175.66</td>\n",
       "      <td>-57.09</td>\n",
       "      <td>2.31</td>\n",
       "      <td>-2.67</td>\n",
       "      <td>0.00</td>\n",
       "      <td>0.00</td>\n",
       "      <td>0.0</td>\n",
       "      <td>0.0</td>\n",
       "      <td>0.00</td>\n",
       "      <td>0.00</td>\n",
       "      <td>...</td>\n",
       "      <td>-3.48</td>\n",
       "      <td>0.00</td>\n",
       "      <td>0.00</td>\n",
       "      <td>0.00</td>\n",
       "      <td>0.00</td>\n",
       "      <td>0.00</td>\n",
       "      <td>0.0</td>\n",
       "      <td>4</td>\n",
       "      <td>0</td>\n",
       "      <td>0.0</td>\n",
       "    </tr>\n",
       "    <tr>\n",
       "      <th>2</th>\n",
       "      <td>200.16</td>\n",
       "      <td>-320.07</td>\n",
       "      <td>4.01</td>\n",
       "      <td>-6.37</td>\n",
       "      <td>0.00</td>\n",
       "      <td>0.00</td>\n",
       "      <td>0.0</td>\n",
       "      <td>0.0</td>\n",
       "      <td>0.18</td>\n",
       "      <td>-0.26</td>\n",
       "      <td>...</td>\n",
       "      <td>-9.38</td>\n",
       "      <td>0.00</td>\n",
       "      <td>0.00</td>\n",
       "      <td>0.00</td>\n",
       "      <td>0.00</td>\n",
       "      <td>-0.11</td>\n",
       "      <td>-0.3</td>\n",
       "      <td>15</td>\n",
       "      <td>1</td>\n",
       "      <td>0.0</td>\n",
       "    </tr>\n",
       "    <tr>\n",
       "      <th>3</th>\n",
       "      <td>316.99</td>\n",
       "      <td>-906.84</td>\n",
       "      <td>0.85</td>\n",
       "      <td>9.17</td>\n",
       "      <td>-0.17</td>\n",
       "      <td>1.03</td>\n",
       "      <td>0.0</td>\n",
       "      <td>0.0</td>\n",
       "      <td>0.00</td>\n",
       "      <td>0.00</td>\n",
       "      <td>...</td>\n",
       "      <td>10.39</td>\n",
       "      <td>-0.26</td>\n",
       "      <td>1.01</td>\n",
       "      <td>0.00</td>\n",
       "      <td>0.00</td>\n",
       "      <td>0.00</td>\n",
       "      <td>0.0</td>\n",
       "      <td>16</td>\n",
       "      <td>0</td>\n",
       "      <td>0.0</td>\n",
       "    </tr>\n",
       "    <tr>\n",
       "      <th>4</th>\n",
       "      <td>1277.68</td>\n",
       "      <td>908.54</td>\n",
       "      <td>-2.02</td>\n",
       "      <td>8.23</td>\n",
       "      <td>-1.00</td>\n",
       "      <td>1.00</td>\n",
       "      <td>0.0</td>\n",
       "      <td>0.0</td>\n",
       "      <td>0.00</td>\n",
       "      <td>0.00</td>\n",
       "      <td>...</td>\n",
       "      <td>13.91</td>\n",
       "      <td>-1.00</td>\n",
       "      <td>0.00</td>\n",
       "      <td>3.21</td>\n",
       "      <td>15.67</td>\n",
       "      <td>0.00</td>\n",
       "      <td>0.0</td>\n",
       "      <td>12</td>\n",
       "      <td>0</td>\n",
       "      <td>0.0</td>\n",
       "    </tr>\n",
       "  </tbody>\n",
       "</table>\n",
       "<p>5 rows × 2401 columns</p>\n",
       "</div>"
      ],
      "text/plain": [
       "        x1      y1  xVel1  yVel1   xA1   yA1  xS1  yS1   xC1   yC1  ...  \\\n",
       "0   562.05   -0.62 -10.70  -4.33  0.00  0.00  0.0  0.0  0.00  0.00  ...   \n",
       "1   175.66  -57.09   2.31  -2.67  0.00  0.00  0.0  0.0  0.00  0.00  ...   \n",
       "2   200.16 -320.07   4.01  -6.37  0.00  0.00  0.0  0.0  0.18 -0.26  ...   \n",
       "3   316.99 -906.84   0.85   9.17 -0.17  1.03  0.0  0.0  0.00  0.00  ...   \n",
       "4  1277.68  908.54  -2.02   8.23 -1.00  1.00  0.0  0.0  0.00  0.00  ...   \n",
       "\n",
       "   yVel200  xA200  yA200  xS200  yS200  xC200  yC200  nAC200  nS200  \\\n",
       "0   -15.15   0.00   0.00   0.00   0.00   0.00    0.0      28      0   \n",
       "1    -3.48   0.00   0.00   0.00   0.00   0.00    0.0       4      0   \n",
       "2    -9.38   0.00   0.00   0.00   0.00  -0.11   -0.3      15      1   \n",
       "3    10.39  -0.26   1.01   0.00   0.00   0.00    0.0      16      0   \n",
       "4    13.91  -1.00   0.00   3.21  15.67   0.00    0.0      12      0   \n",
       "\n",
       "   Swarm_Behaviour  \n",
       "0              0.0  \n",
       "1              0.0  \n",
       "2              0.0  \n",
       "3              0.0  \n",
       "4              0.0  \n",
       "\n",
       "[5 rows x 2401 columns]"
      ]
     },
     "execution_count": 2,
     "metadata": {},
     "output_type": "execute_result"
    }
   ],
   "source": [
    "data.head()"
   ]
  },
  {
   "cell_type": "code",
   "execution_count": 3,
   "id": "a261cb20",
   "metadata": {},
   "outputs": [
    {
     "name": "stdout",
     "output_type": "stream",
     "text": [
      "<class 'pandas.core.frame.DataFrame'>\n",
      "RangeIndex: 23309 entries, 0 to 23308\n",
      "Columns: 2401 entries, x1 to Swarm_Behaviour\n",
      "dtypes: float64(2001), int64(400)\n",
      "memory usage: 427.0 MB\n"
     ]
    }
   ],
   "source": [
    "data.info()"
   ]
  },
  {
   "cell_type": "code",
   "execution_count": 4,
   "id": "ec7b21be",
   "metadata": {},
   "outputs": [
    {
     "data": {
      "text/html": [
       "<div>\n",
       "<style scoped>\n",
       "    .dataframe tbody tr th:only-of-type {\n",
       "        vertical-align: middle;\n",
       "    }\n",
       "\n",
       "    .dataframe tbody tr th {\n",
       "        vertical-align: top;\n",
       "    }\n",
       "\n",
       "    .dataframe thead th {\n",
       "        text-align: right;\n",
       "    }\n",
       "</style>\n",
       "<table border=\"1\" class=\"dataframe\">\n",
       "  <thead>\n",
       "    <tr style=\"text-align: right;\">\n",
       "      <th></th>\n",
       "      <th>x1</th>\n",
       "      <th>y1</th>\n",
       "      <th>xVel1</th>\n",
       "      <th>yVel1</th>\n",
       "      <th>xA1</th>\n",
       "      <th>yA1</th>\n",
       "      <th>xS1</th>\n",
       "      <th>yS1</th>\n",
       "      <th>xC1</th>\n",
       "      <th>yC1</th>\n",
       "      <th>...</th>\n",
       "      <th>yVel200</th>\n",
       "      <th>xA200</th>\n",
       "      <th>yA200</th>\n",
       "      <th>xS200</th>\n",
       "      <th>yS200</th>\n",
       "      <th>xC200</th>\n",
       "      <th>yC200</th>\n",
       "      <th>nAC200</th>\n",
       "      <th>nS200</th>\n",
       "      <th>Swarm_Behaviour</th>\n",
       "    </tr>\n",
       "  </thead>\n",
       "  <tbody>\n",
       "    <tr>\n",
       "      <th>count</th>\n",
       "      <td>23309.000000</td>\n",
       "      <td>23309.000000</td>\n",
       "      <td>23309.000000</td>\n",
       "      <td>23309.000000</td>\n",
       "      <td>23309.000000</td>\n",
       "      <td>23309.000000</td>\n",
       "      <td>23309.000000</td>\n",
       "      <td>23309.000000</td>\n",
       "      <td>23309.000000</td>\n",
       "      <td>23309.000000</td>\n",
       "      <td>...</td>\n",
       "      <td>23309.000000</td>\n",
       "      <td>23309.000000</td>\n",
       "      <td>23309.000000</td>\n",
       "      <td>23309.000000</td>\n",
       "      <td>23309.000000</td>\n",
       "      <td>23309.000000</td>\n",
       "      <td>23309.000000</td>\n",
       "      <td>23309.000000</td>\n",
       "      <td>23309.000000</td>\n",
       "      <td>23309.000000</td>\n",
       "    </tr>\n",
       "    <tr>\n",
       "      <th>mean</th>\n",
       "      <td>104.413631</td>\n",
       "      <td>-73.481853</td>\n",
       "      <td>-0.697607</td>\n",
       "      <td>0.061480</td>\n",
       "      <td>-0.147964</td>\n",
       "      <td>0.152034</td>\n",
       "      <td>-1.055732</td>\n",
       "      <td>-0.731546</td>\n",
       "      <td>-0.034915</td>\n",
       "      <td>0.077123</td>\n",
       "      <td>...</td>\n",
       "      <td>0.086824</td>\n",
       "      <td>-0.126276</td>\n",
       "      <td>0.127497</td>\n",
       "      <td>-1.526260</td>\n",
       "      <td>-0.118891</td>\n",
       "      <td>-0.012388</td>\n",
       "      <td>0.085076</td>\n",
       "      <td>26.433995</td>\n",
       "      <td>2.130679</td>\n",
       "      <td>0.341242</td>\n",
       "    </tr>\n",
       "    <tr>\n",
       "      <th>std</th>\n",
       "      <td>843.200079</td>\n",
       "      <td>573.329374</td>\n",
       "      <td>6.427840</td>\n",
       "      <td>7.366739</td>\n",
       "      <td>0.376078</td>\n",
       "      <td>0.588582</td>\n",
       "      <td>26.388570</td>\n",
       "      <td>20.684183</td>\n",
       "      <td>0.559690</td>\n",
       "      <td>0.628478</td>\n",
       "      <td>...</td>\n",
       "      <td>7.683539</td>\n",
       "      <td>0.378830</td>\n",
       "      <td>0.570589</td>\n",
       "      <td>73.903764</td>\n",
       "      <td>7.002853</td>\n",
       "      <td>0.555143</td>\n",
       "      <td>0.614603</td>\n",
       "      <td>34.136098</td>\n",
       "      <td>7.431911</td>\n",
       "      <td>0.474136</td>\n",
       "    </tr>\n",
       "    <tr>\n",
       "      <th>min</th>\n",
       "      <td>-1414.140000</td>\n",
       "      <td>-1012.180000</td>\n",
       "      <td>-18.590000</td>\n",
       "      <td>-18.410000</td>\n",
       "      <td>-1.000000</td>\n",
       "      <td>-1.000000</td>\n",
       "      <td>-944.070000</td>\n",
       "      <td>-847.910000</td>\n",
       "      <td>-2.680000</td>\n",
       "      <td>-2.680000</td>\n",
       "      <td>...</td>\n",
       "      <td>-18.440000</td>\n",
       "      <td>-1.040000</td>\n",
       "      <td>-1.000000</td>\n",
       "      <td>-4079.230000</td>\n",
       "      <td>-370.240000</td>\n",
       "      <td>-2.680000</td>\n",
       "      <td>-2.680000</td>\n",
       "      <td>0.000000</td>\n",
       "      <td>0.000000</td>\n",
       "      <td>0.000000</td>\n",
       "    </tr>\n",
       "    <tr>\n",
       "      <th>25%</th>\n",
       "      <td>-542.020000</td>\n",
       "      <td>-611.220000</td>\n",
       "      <td>-5.360000</td>\n",
       "      <td>-5.680000</td>\n",
       "      <td>-0.230000</td>\n",
       "      <td>-0.010000</td>\n",
       "      <td>0.000000</td>\n",
       "      <td>0.000000</td>\n",
       "      <td>-0.040000</td>\n",
       "      <td>-0.020000</td>\n",
       "      <td>...</td>\n",
       "      <td>-5.600000</td>\n",
       "      <td>-0.190000</td>\n",
       "      <td>0.000000</td>\n",
       "      <td>0.000000</td>\n",
       "      <td>0.000000</td>\n",
       "      <td>-0.070000</td>\n",
       "      <td>0.000000</td>\n",
       "      <td>2.000000</td>\n",
       "      <td>0.000000</td>\n",
       "      <td>0.000000</td>\n",
       "    </tr>\n",
       "    <tr>\n",
       "      <th>50%</th>\n",
       "      <td>145.300000</td>\n",
       "      <td>-157.350000</td>\n",
       "      <td>-0.450000</td>\n",
       "      <td>-1.540000</td>\n",
       "      <td>0.000000</td>\n",
       "      <td>0.000000</td>\n",
       "      <td>0.000000</td>\n",
       "      <td>0.000000</td>\n",
       "      <td>0.000000</td>\n",
       "      <td>0.000000</td>\n",
       "      <td>...</td>\n",
       "      <td>-0.780000</td>\n",
       "      <td>0.000000</td>\n",
       "      <td>0.000000</td>\n",
       "      <td>0.000000</td>\n",
       "      <td>0.000000</td>\n",
       "      <td>0.000000</td>\n",
       "      <td>0.000000</td>\n",
       "      <td>12.000000</td>\n",
       "      <td>0.000000</td>\n",
       "      <td>0.000000</td>\n",
       "    </tr>\n",
       "    <tr>\n",
       "      <th>75%</th>\n",
       "      <td>896.200000</td>\n",
       "      <td>425.700000</td>\n",
       "      <td>3.940000</td>\n",
       "      <td>7.260000</td>\n",
       "      <td>0.000000</td>\n",
       "      <td>0.940000</td>\n",
       "      <td>0.000000</td>\n",
       "      <td>0.000000</td>\n",
       "      <td>0.000000</td>\n",
       "      <td>0.020000</td>\n",
       "      <td>...</td>\n",
       "      <td>7.480000</td>\n",
       "      <td>0.000000</td>\n",
       "      <td>0.540000</td>\n",
       "      <td>0.000000</td>\n",
       "      <td>0.000000</td>\n",
       "      <td>0.000000</td>\n",
       "      <td>0.030000</td>\n",
       "      <td>35.000000</td>\n",
       "      <td>1.000000</td>\n",
       "      <td>1.000000</td>\n",
       "    </tr>\n",
       "    <tr>\n",
       "      <th>max</th>\n",
       "      <td>1406.080000</td>\n",
       "      <td>1015.800000</td>\n",
       "      <td>18.470000</td>\n",
       "      <td>18.570000</td>\n",
       "      <td>1.000000</td>\n",
       "      <td>1.040000</td>\n",
       "      <td>68.560000</td>\n",
       "      <td>234.740000</td>\n",
       "      <td>2.680000</td>\n",
       "      <td>2.680000</td>\n",
       "      <td>...</td>\n",
       "      <td>18.490000</td>\n",
       "      <td>1.000000</td>\n",
       "      <td>1.040000</td>\n",
       "      <td>255.990000</td>\n",
       "      <td>57.840000</td>\n",
       "      <td>2.680000</td>\n",
       "      <td>2.680000</td>\n",
       "      <td>142.000000</td>\n",
       "      <td>64.000000</td>\n",
       "      <td>1.000000</td>\n",
       "    </tr>\n",
       "  </tbody>\n",
       "</table>\n",
       "<p>8 rows × 2401 columns</p>\n",
       "</div>"
      ],
      "text/plain": [
       "                 x1            y1         xVel1         yVel1           xA1  \\\n",
       "count  23309.000000  23309.000000  23309.000000  23309.000000  23309.000000   \n",
       "mean     104.413631    -73.481853     -0.697607      0.061480     -0.147964   \n",
       "std      843.200079    573.329374      6.427840      7.366739      0.376078   \n",
       "min    -1414.140000  -1012.180000    -18.590000    -18.410000     -1.000000   \n",
       "25%     -542.020000   -611.220000     -5.360000     -5.680000     -0.230000   \n",
       "50%      145.300000   -157.350000     -0.450000     -1.540000      0.000000   \n",
       "75%      896.200000    425.700000      3.940000      7.260000      0.000000   \n",
       "max     1406.080000   1015.800000     18.470000     18.570000      1.000000   \n",
       "\n",
       "                yA1           xS1           yS1           xC1           yC1  \\\n",
       "count  23309.000000  23309.000000  23309.000000  23309.000000  23309.000000   \n",
       "mean       0.152034     -1.055732     -0.731546     -0.034915      0.077123   \n",
       "std        0.588582     26.388570     20.684183      0.559690      0.628478   \n",
       "min       -1.000000   -944.070000   -847.910000     -2.680000     -2.680000   \n",
       "25%       -0.010000      0.000000      0.000000     -0.040000     -0.020000   \n",
       "50%        0.000000      0.000000      0.000000      0.000000      0.000000   \n",
       "75%        0.940000      0.000000      0.000000      0.000000      0.020000   \n",
       "max        1.040000     68.560000    234.740000      2.680000      2.680000   \n",
       "\n",
       "       ...       yVel200         xA200         yA200         xS200  \\\n",
       "count  ...  23309.000000  23309.000000  23309.000000  23309.000000   \n",
       "mean   ...      0.086824     -0.126276      0.127497     -1.526260   \n",
       "std    ...      7.683539      0.378830      0.570589     73.903764   \n",
       "min    ...    -18.440000     -1.040000     -1.000000  -4079.230000   \n",
       "25%    ...     -5.600000     -0.190000      0.000000      0.000000   \n",
       "50%    ...     -0.780000      0.000000      0.000000      0.000000   \n",
       "75%    ...      7.480000      0.000000      0.540000      0.000000   \n",
       "max    ...     18.490000      1.000000      1.040000    255.990000   \n",
       "\n",
       "              yS200         xC200         yC200        nAC200         nS200  \\\n",
       "count  23309.000000  23309.000000  23309.000000  23309.000000  23309.000000   \n",
       "mean      -0.118891     -0.012388      0.085076     26.433995      2.130679   \n",
       "std        7.002853      0.555143      0.614603     34.136098      7.431911   \n",
       "min     -370.240000     -2.680000     -2.680000      0.000000      0.000000   \n",
       "25%        0.000000     -0.070000      0.000000      2.000000      0.000000   \n",
       "50%        0.000000      0.000000      0.000000     12.000000      0.000000   \n",
       "75%        0.000000      0.000000      0.030000     35.000000      1.000000   \n",
       "max       57.840000      2.680000      2.680000    142.000000     64.000000   \n",
       "\n",
       "       Swarm_Behaviour  \n",
       "count     23309.000000  \n",
       "mean          0.341242  \n",
       "std           0.474136  \n",
       "min           0.000000  \n",
       "25%           0.000000  \n",
       "50%           0.000000  \n",
       "75%           1.000000  \n",
       "max           1.000000  \n",
       "\n",
       "[8 rows x 2401 columns]"
      ]
     },
     "execution_count": 4,
     "metadata": {},
     "output_type": "execute_result"
    }
   ],
   "source": [
    "data.describe()"
   ]
  },
  {
   "cell_type": "code",
   "execution_count": 5,
   "id": "82787b4e",
   "metadata": {},
   "outputs": [
    {
     "data": {
      "text/plain": [
       "<bound method NDFrame._add_numeric_operations.<locals>.any of x1                 0\n",
       "y1                 0\n",
       "xVel1              0\n",
       "yVel1              0\n",
       "xA1                0\n",
       "                  ..\n",
       "xC200              0\n",
       "yC200              0\n",
       "nAC200             0\n",
       "nS200              0\n",
       "Swarm_Behaviour    0\n",
       "Length: 2401, dtype: int64>"
      ]
     },
     "execution_count": 5,
     "metadata": {},
     "output_type": "execute_result"
    }
   ],
   "source": [
    "data.isnull().sum().any"
   ]
  },
  {
   "cell_type": "code",
   "execution_count": 9,
   "id": "e8d17d3d",
   "metadata": {},
   "outputs": [
    {
     "data": {
      "text/plain": [
       "Index(['x1', 'y1', 'xVel1', 'yVel1', 'xA1', 'yA1', 'xS1', 'yS1', 'xC1', 'yC1',\n",
       "       ...\n",
       "       'yVel200', 'xA200', 'yA200', 'xS200', 'yS200', 'xC200', 'yC200',\n",
       "       'nAC200', 'nS200', 'Swarm_Behaviour'],\n",
       "      dtype='object', length=2401)"
      ]
     },
     "execution_count": 9,
     "metadata": {},
     "output_type": "execute_result"
    }
   ],
   "source": [
    "data.columns"
   ]
  },
  {
   "cell_type": "code",
   "execution_count": 10,
   "id": "a97ecfd4",
   "metadata": {},
   "outputs": [],
   "source": [
    "x = data.iloc[:,:-1].values\n",
    "y = data.iloc[:,-1].values"
   ]
  },
  {
   "cell_type": "code",
   "execution_count": 11,
   "id": "fc24e7fe",
   "metadata": {},
   "outputs": [],
   "source": [
    "from sklearn.model_selection import train_test_split\n",
    "x_train,x_test,y_train,y_test = train_test_split(x,y,test_size=0.25,\n",
    "                                                random_state=0)"
   ]
  },
  {
   "cell_type": "code",
   "execution_count": 12,
   "id": "f24b1398",
   "metadata": {},
   "outputs": [],
   "source": [
    "from sklearn.preprocessing import StandardScaler\n",
    "sc = StandardScaler()\n",
    "\n",
    "x_train = sc.fit_transform(x_train)\n",
    "x_test = sc.transform(x_test)"
   ]
  },
  {
   "cell_type": "markdown",
   "id": "ba5a7623",
   "metadata": {},
   "source": [
    "#### Logistic Regression"
   ]
  },
  {
   "cell_type": "code",
   "execution_count": 13,
   "id": "01313055",
   "metadata": {},
   "outputs": [
    {
     "name": "stderr",
     "output_type": "stream",
     "text": [
      "C:\\ProgramData\\Anaconda3\\lib\\site-packages\\sklearn\\linear_model\\_logistic.py:763: ConvergenceWarning: lbfgs failed to converge (status=1):\n",
      "STOP: TOTAL NO. of ITERATIONS REACHED LIMIT.\n",
      "\n",
      "Increase the number of iterations (max_iter) or scale the data as shown in:\n",
      "    https://scikit-learn.org/stable/modules/preprocessing.html\n",
      "Please also refer to the documentation for alternative solver options:\n",
      "    https://scikit-learn.org/stable/modules/linear_model.html#logistic-regression\n",
      "  n_iter_i = _check_optimize_result(\n"
     ]
    },
    {
     "data": {
      "text/plain": [
       "LogisticRegression()"
      ]
     },
     "execution_count": 13,
     "metadata": {},
     "output_type": "execute_result"
    }
   ],
   "source": [
    "from sklearn.linear_model import LogisticRegression\n",
    "log_reg = LogisticRegression()\n",
    "\n",
    "log_reg.fit(x_train,y_train)"
   ]
  },
  {
   "cell_type": "code",
   "execution_count": 14,
   "id": "8711a35f",
   "metadata": {},
   "outputs": [],
   "source": [
    "y_pred = log_reg.predict(x_test)"
   ]
  },
  {
   "cell_type": "code",
   "execution_count": 15,
   "id": "fc56b492",
   "metadata": {},
   "outputs": [
    {
     "data": {
      "text/plain": [
       "array([[3496,  348],\n",
       "       [ 368, 1616]], dtype=int64)"
      ]
     },
     "execution_count": 15,
     "metadata": {},
     "output_type": "execute_result"
    }
   ],
   "source": [
    "from sklearn.metrics import confusion_matrix, accuracy_score\n",
    "confusion_matrix(y_test,y_pred)"
   ]
  },
  {
   "cell_type": "code",
   "execution_count": 16,
   "id": "741e7ee7",
   "metadata": {},
   "outputs": [
    {
     "data": {
      "text/plain": [
       "0.8771448181194235"
      ]
     },
     "execution_count": 16,
     "metadata": {},
     "output_type": "execute_result"
    }
   ],
   "source": [
    "accuracy_score(y_test,y_pred)"
   ]
  },
  {
   "cell_type": "code",
   "execution_count": 17,
   "id": "bc96c86f",
   "metadata": {},
   "outputs": [
    {
     "name": "stdout",
     "output_type": "stream",
     "text": [
      "              precision    recall  f1-score   support\n",
      "\n",
      "         0.0       0.90      0.91      0.91      3844\n",
      "         1.0       0.82      0.81      0.82      1984\n",
      "\n",
      "    accuracy                           0.88      5828\n",
      "   macro avg       0.86      0.86      0.86      5828\n",
      "weighted avg       0.88      0.88      0.88      5828\n",
      "\n"
     ]
    }
   ],
   "source": [
    "from sklearn.metrics import classification_report\n",
    "print(classification_report(y_test,y_pred))"
   ]
  },
  {
   "cell_type": "markdown",
   "id": "e96fb798",
   "metadata": {},
   "source": [
    "#### Naive Bayes"
   ]
  },
  {
   "cell_type": "code",
   "execution_count": 18,
   "id": "515c8907",
   "metadata": {},
   "outputs": [],
   "source": [
    "from sklearn.naive_bayes import GaussianNB\n",
    "classifier = GaussianNB()"
   ]
  },
  {
   "cell_type": "code",
   "execution_count": 19,
   "id": "6f47f5b9",
   "metadata": {},
   "outputs": [],
   "source": [
    "classifier.fit(x_train,y_train)\n",
    "y_pred = classifier.predict(x_test)"
   ]
  },
  {
   "cell_type": "code",
   "execution_count": 20,
   "id": "a8ff967a",
   "metadata": {},
   "outputs": [
    {
     "data": {
      "text/plain": [
       "array([[-1463.06543307,     0.        ],\n",
       "       [  -84.9584348 ,     0.        ],\n",
       "       [ -769.32495263,     0.        ],\n",
       "       ...,\n",
       "       [ -932.23446749,     0.        ],\n",
       "       [ -210.69040922,     0.        ],\n",
       "       [ -433.96020952,     0.        ]])"
      ]
     },
     "execution_count": 20,
     "metadata": {},
     "output_type": "execute_result"
    }
   ],
   "source": [
    "classifier.predict_log_proba(x_test)"
   ]
  },
  {
   "cell_type": "code",
   "execution_count": 21,
   "id": "5a47b795",
   "metadata": {},
   "outputs": [
    {
     "name": "stdout",
     "output_type": "stream",
     "text": [
      "[[ 826 3018]\n",
      " [  61 1923]]\n",
      "accuracy: 0.47168840082361013\n"
     ]
    }
   ],
   "source": [
    "from sklearn.metrics import accuracy_score, confusion_matrix\n",
    "\n",
    "print(confusion_matrix(y_test,y_pred))\n",
    "print('accuracy:',accuracy_score(y_test,y_pred))"
   ]
  },
  {
   "cell_type": "markdown",
   "id": "4421f19a",
   "metadata": {},
   "source": [
    "#### KNN"
   ]
  },
  {
   "cell_type": "code",
   "execution_count": 22,
   "id": "076883a7",
   "metadata": {},
   "outputs": [],
   "source": [
    "from sklearn.neighbors import KNeighborsClassifier\n",
    "knn = KNeighborsClassifier()"
   ]
  },
  {
   "cell_type": "code",
   "execution_count": 23,
   "id": "8e881d73",
   "metadata": {},
   "outputs": [],
   "source": [
    "knn.fit(x_train, y_train)\n",
    "knn_pred = knn.predict(x_test)"
   ]
  },
  {
   "cell_type": "code",
   "execution_count": 24,
   "id": "0ebecb99",
   "metadata": {},
   "outputs": [
    {
     "name": "stdout",
     "output_type": "stream",
     "text": [
      "              precision    recall  f1-score   support\n",
      "\n",
      "         0.0       0.91      0.92      0.91      3844\n",
      "         1.0       0.84      0.82      0.83      1984\n",
      "\n",
      "    accuracy                           0.89      5828\n",
      "   macro avg       0.88      0.87      0.87      5828\n",
      "weighted avg       0.89      0.89      0.89      5828\n",
      "\n"
     ]
    }
   ],
   "source": [
    "print(classification_report(y_test, knn_pred))"
   ]
  },
  {
   "cell_type": "markdown",
   "id": "5334a688",
   "metadata": {},
   "source": [
    "#### Decision Tree"
   ]
  },
  {
   "cell_type": "code",
   "execution_count": 25,
   "id": "5365d5e6",
   "metadata": {},
   "outputs": [],
   "source": [
    "from sklearn.tree import DecisionTreeClassifier\n",
    "dt = DecisionTreeClassifier()"
   ]
  },
  {
   "cell_type": "code",
   "execution_count": 26,
   "id": "fd8f918e",
   "metadata": {},
   "outputs": [],
   "source": [
    "dt.fit(x_train, y_train)\n",
    "dt_pred = dt.predict(x_test)"
   ]
  },
  {
   "cell_type": "code",
   "execution_count": 27,
   "id": "97c2b432",
   "metadata": {},
   "outputs": [
    {
     "name": "stdout",
     "output_type": "stream",
     "text": [
      "              precision    recall  f1-score   support\n",
      "\n",
      "         0.0       0.89      0.92      0.90      3844\n",
      "         1.0       0.83      0.78      0.80      1984\n",
      "\n",
      "    accuracy                           0.87      5828\n",
      "   macro avg       0.86      0.85      0.85      5828\n",
      "weighted avg       0.87      0.87      0.87      5828\n",
      "\n"
     ]
    }
   ],
   "source": [
    "print(classification_report(y_test, dt_pred))"
   ]
  },
  {
   "cell_type": "markdown",
   "id": "6a87d43f",
   "metadata": {},
   "source": [
    "#### Decision Tree - Entropy"
   ]
  },
  {
   "cell_type": "code",
   "execution_count": 28,
   "id": "896cf796",
   "metadata": {},
   "outputs": [],
   "source": [
    "dt2 = DecisionTreeClassifier(criterion='entropy')"
   ]
  },
  {
   "cell_type": "code",
   "execution_count": 29,
   "id": "bab09b95",
   "metadata": {},
   "outputs": [
    {
     "data": {
      "text/plain": [
       "DecisionTreeClassifier(criterion='entropy')"
      ]
     },
     "execution_count": 29,
     "metadata": {},
     "output_type": "execute_result"
    }
   ],
   "source": [
    "dt2.fit(x_train, y_train)"
   ]
  },
  {
   "cell_type": "code",
   "execution_count": 30,
   "id": "4d8d9c98",
   "metadata": {},
   "outputs": [],
   "source": [
    "y_pred = dt2.predict(x_test)"
   ]
  },
  {
   "cell_type": "code",
   "execution_count": 31,
   "id": "ec9b1b09",
   "metadata": {},
   "outputs": [
    {
     "name": "stdout",
     "output_type": "stream",
     "text": [
      "              precision    recall  f1-score   support\n",
      "\n",
      "         0.0       0.89      0.91      0.90      3844\n",
      "         1.0       0.82      0.78      0.80      1984\n",
      "\n",
      "    accuracy                           0.87      5828\n",
      "   macro avg       0.85      0.85      0.85      5828\n",
      "weighted avg       0.87      0.87      0.87      5828\n",
      "\n"
     ]
    }
   ],
   "source": [
    "print(classification_report(y_test, y_pred))"
   ]
  },
  {
   "cell_type": "markdown",
   "id": "70620dc8",
   "metadata": {},
   "source": [
    "#### Accuracies:\n",
    "##### Logistic Regression = 87.71\n",
    "##### Naive Bayes = 47.16\n",
    "##### KNN = 89\n",
    "##### Decision Tree = 87"
   ]
  }
 ],
 "metadata": {
  "kernelspec": {
   "display_name": "Python 3 (ipykernel)",
   "language": "python",
   "name": "python3"
  },
  "language_info": {
   "codemirror_mode": {
    "name": "ipython",
    "version": 3
   },
   "file_extension": ".py",
   "mimetype": "text/x-python",
   "name": "python",
   "nbconvert_exporter": "python",
   "pygments_lexer": "ipython3",
   "version": "3.9.7"
  }
 },
 "nbformat": 4,
 "nbformat_minor": 5
}
